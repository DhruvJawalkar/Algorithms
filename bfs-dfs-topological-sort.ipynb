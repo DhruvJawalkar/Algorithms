{
 "cells": [
  {
   "cell_type": "code",
   "execution_count": 55,
   "metadata": {},
   "outputs": [],
   "source": [
    "from collections import defaultdict\n",
    "\n",
    "adj_list = defaultdict(lambda:[])\n",
    "adj_list['A'] = ['B','D']\n",
    "adj_list['B'] = ['A','C','G']\n",
    "adj_list['C'] = ['D','B']\n",
    "adj_list['D'] = ['A','C']\n",
    "adj_list['E'] = ['G','F']\n",
    "adj_list['F'] = ['G','E']\n",
    "adj_list['G'] = ['B','E','F']\n",
    "adj_list['H'] = ['J','I']\n",
    "adj_list['I'] = ['H','J']\n",
    "adj_list['J'] = ['H','I']\n",
    "\n",
    "visited = defaultdict(lambda:False)\n",
    "\n",
    "def bfs(adj_list, visited):\n",
    "    Q = []\n",
    "    s = 'A'\n",
    "    res = []\n",
    "    \n",
    "    for n in adj_list:\n",
    "        if(not visited[n]):\n",
    "            print('n', n)\n",
    "            Q.append(n)\n",
    "            visited[n] = True\n",
    "            explore(n, Q, adj_list, visited, res)\n",
    "    \n",
    "    print(res)\n",
    "\n",
    "def explore(v, Q, adj_list, visited, res):\n",
    "    while(len(Q)!=0):\n",
    "        for v in adj_list[Q[0]]:\n",
    "            if(not visited[v]):\n",
    "                Q.append(v)\n",
    "                visited[v] = True\n",
    "        res.append(Q.pop(0))"
   ]
  },
  {
   "cell_type": "code",
   "execution_count": 56,
   "metadata": {},
   "outputs": [
    {
     "name": "stdout",
     "output_type": "stream",
     "text": [
      "n A\n",
      "n H\n",
      "['A', 'B', 'D', 'C', 'G', 'E', 'F', 'H', 'J', 'I']\n"
     ]
    }
   ],
   "source": [
    "bfs(adj_list, visited)    "
   ]
  },
  {
   "cell_type": "code",
   "execution_count": 36,
   "metadata": {},
   "outputs": [
    {
     "data": {
      "text/plain": [
       "4"
      ]
     },
     "execution_count": 36,
     "metadata": {},
     "output_type": "execute_result"
    }
   ],
   "source": [
    "len(adj_list)"
   ]
  },
  {
   "cell_type": "code",
   "execution_count": 106,
   "metadata": {},
   "outputs": [],
   "source": [
    "from collections import defaultdict\n",
    "\n",
    "adj_list = defaultdict(lambda:[])\n",
    "adj_list['A'] = ['B','D']\n",
    "adj_list['B'] = ['A','C','G']\n",
    "adj_list['C'] = ['D','B']\n",
    "adj_list['D'] = ['A','C']\n",
    "adj_list['E'] = ['G','F']\n",
    "adj_list['F'] = ['G','E']\n",
    "adj_list['G'] = ['B','E','F']\n",
    "adj_list['H'] = ['J','I']\n",
    "adj_list['I'] = ['H','J']\n",
    "adj_list['J'] = ['H','I']\n",
    "\n",
    "visited = defaultdict(lambda:False)\n",
    "pre_visit = defaultdict(lambda:-1)\n",
    "post_visit = defaultdict(lambda:-1)\n",
    "\n",
    "\n",
    "def dfs(adj_list, visited):\n",
    "    s = 'A'\n",
    "    res = []\n",
    "    clock = {'time':0}\n",
    "    \n",
    "    for n in adj_list:\n",
    "        if(not visited[n]):\n",
    "            clock['time'] += 1\n",
    "            pre_visit[n] = clock['time']\n",
    "            visited[n] = True\n",
    "            \n",
    "            dfs_visit(n, adj_list, visited, res, clock)\n",
    "    \n",
    "    return res\n",
    "\n",
    "def dfs_visit(u, adj_list, visited, res, clock):\n",
    "    for v in adj_list[u]:\n",
    "        if(not visited[v]):\n",
    "            clock['time'] += 1\n",
    "            pre_visit[v] = clock['time']\n",
    "            visited[v] = True\n",
    "            dfs_visit(v, adj_list, visited, res, clock)\n",
    "    \n",
    "    clock['time'] += 1\n",
    "    post_visit[u] = clock['time']\n",
    "    res.append(u)\n",
    "    return"
   ]
  },
  {
   "cell_type": "code",
   "execution_count": 107,
   "metadata": {},
   "outputs": [
    {
     "data": {
      "text/plain": [
       "['D', 'C', 'F', 'E', 'G', 'B', 'A', 'I', 'J', 'H']"
      ]
     },
     "execution_count": 107,
     "metadata": {},
     "output_type": "execute_result"
    }
   ],
   "source": [
    "dfs(adj_list, visited)"
   ]
  },
  {
   "cell_type": "code",
   "execution_count": 114,
   "metadata": {},
   "outputs": [],
   "source": [
    "adj_list = defaultdict(lambda:[])\n",
    "adj_list['shirt'] = ['tie','belt']\n",
    "adj_list['tie'] = ['jacket']\n",
    "adj_list['jacket'] = []\n",
    "\n",
    "adj_list['watch'] = []\n",
    "\n",
    "adj_list['undershorts'] = ['pants','shoes']\n",
    "adj_list['pants'] = ['shoes','belt']\n",
    "adj_list['belt'] = ['jacket']\n",
    "\n",
    "adj_list['socks'] = ['shoes']\n",
    "adj_list['shoes'] = []\n",
    "\n",
    "visited = defaultdict(lambda:False)\n",
    "pre_visit = defaultdict(lambda:-1)\n",
    "post_visit = defaultdict(lambda:-1)"
   ]
  },
  {
   "cell_type": "code",
   "execution_count": 115,
   "metadata": {},
   "outputs": [],
   "source": [
    "def top_sort(adj_list, visited):\n",
    "    res = dfs(adj_list, visited)\n",
    "    res.reverse()\n",
    "    return res"
   ]
  },
  {
   "cell_type": "code",
   "execution_count": 116,
   "metadata": {},
   "outputs": [
    {
     "name": "stdout",
     "output_type": "stream",
     "text": [
      "['socks', 'undershorts', 'pants', 'shoes', 'watch', 'shirt', 'belt', 'tie', 'jacket']\n"
     ]
    }
   ],
   "source": [
    "print(top_sort(adj_list, visited))"
   ]
  },
  {
   "cell_type": "code",
   "execution_count": 78,
   "metadata": {},
   "outputs": [],
   "source": []
  },
  {
   "cell_type": "code",
   "execution_count": null,
   "metadata": {},
   "outputs": [],
   "source": []
  }
 ],
 "metadata": {
  "kernelspec": {
   "display_name": "Python 3",
   "language": "python",
   "name": "python3"
  },
  "language_info": {
   "codemirror_mode": {
    "name": "ipython",
    "version": 3
   },
   "file_extension": ".py",
   "mimetype": "text/x-python",
   "name": "python",
   "nbconvert_exporter": "python",
   "pygments_lexer": "ipython3",
   "version": "3.6.4"
  }
 },
 "nbformat": 4,
 "nbformat_minor": 2
}
