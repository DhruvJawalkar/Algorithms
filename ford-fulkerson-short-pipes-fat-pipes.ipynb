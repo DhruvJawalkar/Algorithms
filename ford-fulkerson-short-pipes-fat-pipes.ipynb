{
 "cells": [
  {
   "cell_type": "code",
   "execution_count": 12,
   "metadata": {},
   "outputs": [],
   "source": [
    "from collections import defaultdict\n",
    "\n",
    "class PriorityQueue():\n",
    "    def swap_node_idxs_in_map(self, n_1, n_2):\n",
    "        temp = self.node_to_idx[n_1]\n",
    "        self.node_to_idx[n_1] = self.node_to_idx[n_2]\n",
    "        self.node_to_idx[n_2] = temp\n",
    "        \n",
    "    def swap(self, i, j):\n",
    "        temp = self.H[i]\n",
    "        self.H[i] = self.H[j]\n",
    "        self.H[j] = temp\n",
    "        self.swap_node_idxs_in_map(self.H[i][0], self.H[j][0])\n",
    "        \n",
    "    def max_heapify(self, i):\n",
    "        l = 2*i + 1\n",
    "        r = 2*i + 2\n",
    "        largest = i\n",
    "        \n",
    "        if(l<self.heap_size and self.H[l][1]>self.H[largest][1]):\n",
    "            largest = l\n",
    "        \n",
    "        if(r<self.heap_size and self.H[r][1]>self.H[largest][1]):\n",
    "            largest = r\n",
    "            \n",
    "        if(largest != i):\n",
    "            self.swap(i, largest)\n",
    "            self.max_heapify(largest)\n",
    "        return    \n",
    "        \n",
    "    def build_heap(self):\n",
    "        for i in reversed(range(self.heap_size//2)):\n",
    "            self.max_heapify(i)\n",
    "    \n",
    "    def extract_max(self):\n",
    "        self.swap(0, self.heap_size-1)\n",
    "        self.heap_size -= 1\n",
    "        self.max_heapify(0)\n",
    "        return self.H[self.heap_size][0]\n",
    "    \n",
    "    def increase_key(self, v, updated_key):\n",
    "        i = self.node_to_idx[v]\n",
    "        self.H[i] = (v, updated_key)\n",
    "        \n",
    "        p = (i-1)//2\n",
    "        while(p>=0 and self.H[i][1]>self.H[p][1]):\n",
    "            self.swap(i, p)\n",
    "            i = p\n",
    "            p = (i-1)//2\n",
    "            \n",
    "    def __init__(self, keys_dict):\n",
    "        self.node_to_idx = dict()\n",
    "        self.heap_size = len(keys_dict)\n",
    "        self.H = []\n",
    "        i=0\n",
    "        for n in keys_dict:\n",
    "            self.H.append((n, keys_dict[n]))\n",
    "            self.node_to_idx[n] = i\n",
    "            i += 1      \n",
    "        self.build_heap()\n",
    "\n",
    "def BFS_visit(Q, t, adj_list_f, c_f, visited, predecessor):    \n",
    "    while(len(Q)):\n",
    "        if(visited[t]):\n",
    "            break\n",
    "\n",
    "        u = Q.pop(0)\n",
    "        visited[u] = True\n",
    "        for v in adj_list_f[u]:\n",
    "            if(not visited[t] and not visited[v] and c_f[(u,v)]>0):\n",
    "                Q.append(v)\n",
    "                predecessor[v] = u\n",
    "\n",
    "def get_bottleneck_and_path(s, t, predecessor, c_f):\n",
    "    path = []\n",
    "    b = 0\n",
    "    if(predecessor[t]!=None):\n",
    "        path.append(t)\n",
    "        b = c_f[(predecessor[t], t)]\n",
    "        while(predecessor[path[-1]]!=None):\n",
    "            path.append(predecessor[path[-1]])          \n",
    "            e_c = c_f[(path[-1], path[-2])]\n",
    "            if(b>e_c):\n",
    "                b = e_c\n",
    "                \n",
    "    if(len(path) and path[-1]==s):\n",
    "        path.reverse()\n",
    "    \n",
    "    return b, path\n",
    "    \n",
    "def BFS(s, t, adj_list_f, c_f): \n",
    "    predecessor = dict()\n",
    "    visited = dict()\n",
    "    Q = []\n",
    "    \n",
    "    for n in adj_list_f:\n",
    "        visited[n] = False\n",
    "        predecessor[n] = None\n",
    "    \n",
    "    Q.append(s)\n",
    "    BFS_visit(Q, t, adj_list_f, c_f, visited, predecessor)\n",
    "    \n",
    "    return get_bottleneck_and_path(s, t, predecessor, c_f)\n",
    "\n",
    "def get_res_flow_in_G(c, flow):\n",
    "    res_flow = []\n",
    "    for u,v in c:\n",
    "        if(flow[(u,v)] > 0):\n",
    "            res_flow.append((u,v,flow[(u,v)]))\n",
    "    \n",
    "    return res_flow\n",
    "\n",
    "def decrease_capacity(c_f, u, v, b, adj_list_f):\n",
    "    c_f[(u,v)] -= b\n",
    "    if(c_f[(u,v)]==0):\n",
    "        del c_f[(u,v)]\n",
    "        adj_list_f[u].remove(v)\n",
    "    \n",
    "def decrease_flow(flow, u, v, b):\n",
    "    if(flow[(u,v)]):\n",
    "        flow[(u,v)] -= b\n",
    "        if(flow[(u,v)]==0):\n",
    "            del flow[(u,v)]\n",
    "        \n",
    "def update_capacity_and_flow_in_Gf(c_f, flow, path, b, adj_list_f):\n",
    "    for i in range(len(path)-1):\n",
    "        decrease_capacity(c_f, path[i], path[i+1], b, adj_list_f)\n",
    "        flow[(path[i], path[i+1])] += b\n",
    "        decrease_flow(flow, path[i+1], path[i], b)\n",
    "        c_f[(path[i+1], path[i])] +=b\n",
    "        adj_list_f[path[i+1]].add(path[i])\n",
    "            \n",
    "def Max_Flow_Short(s, t, capacities):\n",
    "    adj_list = defaultdict(lambda: set())\n",
    "    c = defaultdict(lambda:0)\n",
    "    flow = defaultdict(lambda:0)\n",
    "    max_flow = 0\n",
    "    \n",
    "    for tup in capacities:\n",
    "        c[(tup[0], tup[1])] = tup[2]\n",
    "        flow[(tup[0], tup[1])] = 0\n",
    "        adj_list[tup[0]].add(tup[1])\n",
    "        if(tup[1] not in adj_list):\n",
    "            adj_list[tup[1]]\n",
    "            \n",
    "    adj_list_f = adj_list.copy() \n",
    "    c_f = c.copy()\n",
    "    \n",
    "    b, path = BFS(s, t, adj_list_f, c_f)\n",
    "    max_flow += b\n",
    "    while(path!=[]):   \n",
    "        update_capacity_and_flow_in_Gf(c_f, flow, path, b, adj_list_f)        \n",
    "        b, path = BFS(s, t, adj_list_f, c_f)\n",
    "        max_flow += b\n",
    "        \n",
    "    return (max_flow, get_res_flow_in_G(c, flow))"
   ]
  },
  {
   "cell_type": "code",
   "execution_count": 10,
   "metadata": {},
   "outputs": [
    {
     "data": {
      "text/plain": [
       "(3, [(0, 1, 1), (0, 2, 2), (2, 3, 2), (1, 3, 1)])"
      ]
     },
     "execution_count": 10,
     "metadata": {},
     "output_type": "execute_result"
    }
   ],
   "source": [
    "#Max_Flow_Short(0, 3, [(0,1,1), (0,2,5), (1,2,1), (2,3,2), (1,3,6)])"
   ]
  },
  {
   "cell_type": "code",
   "execution_count": 11,
   "metadata": {},
   "outputs": [
    {
     "data": {
      "text/plain": [
       "(8, [(0, 1, 2), (0, 3, 6), (1, 4, 2), (3, 4, 6)])"
      ]
     },
     "execution_count": 11,
     "metadata": {},
     "output_type": "execute_result"
    }
   ],
   "source": [
    "#Max_Flow_Short(0, 4,  [(0, 1, 2), (0, 3, 6), (1, 2, 3), (1, 3, 8), (1, 4, 5), (2, 4, 7), (3, 4, 9)])"
   ]
  },
  {
   "cell_type": "code",
   "execution_count": 5,
   "metadata": {},
   "outputs": [],
   "source": [
    "def is_decendant_of_s(s, n, predecessor):\n",
    "    if(s==n):\n",
    "        return True\n",
    "    temp = int(n)\n",
    "    while(predecessor[temp]!=None and predecessor[temp]!=s):\n",
    "        temp = predecessor[temp]\n",
    "    return predecessor[temp]==s   \n",
    "    \n",
    "\n",
    "def MST_Prim(s, t, adj_list_f, c_f):     \n",
    "    keys_dict = defaultdict(lambda: -1)\n",
    "    predecessor = defaultdict(lambda:None)\n",
    "    node_in_Q = dict()\n",
    "    \n",
    "    for n in adj_list_f:\n",
    "        keys_dict[n]\n",
    "        predecessor[n]\n",
    "        node_in_Q[n] = 1\n",
    "    \n",
    "    keys_dict[s] = 0\n",
    "    Q = PriorityQueue(keys_dict)\n",
    "    \n",
    "    while(predecessor[t]==None and Q.heap_size!=0):\n",
    "        u = Q.extract_max()\n",
    "        node_in_Q[u] = 0\n",
    "        \n",
    "        if(is_decendant_of_s(s, u, predecessor)):\n",
    "            for v in adj_list_f[u]:\n",
    "                if(predecessor[t]!=None):\n",
    "                    break\n",
    "\n",
    "                if(node_in_Q[v] and c_f[(u, v)]>keys_dict[v] and c_f[(u, v)]):\n",
    "                    predecessor[v] = u\n",
    "                    keys_dict[v] = c_f[(u, v)]\n",
    "                    Q.increase_key(v, c_f[(u, v)])\n",
    "                    \n",
    "    return get_bottleneck_and_path(s, t, predecessor, c_f)        \n",
    "\n",
    "\n",
    "def Max_Flow_Fat(s, t, capacities):\n",
    "    adj_list = defaultdict(lambda: set())\n",
    "    c = defaultdict(lambda:0)\n",
    "    flow = defaultdict(lambda:0)\n",
    "    max_flow = 0\n",
    "    \n",
    "    for tup in capacities:\n",
    "        c[(tup[0], tup[1])] = tup[2]\n",
    "        flow[(tup[0], tup[1])] = 0\n",
    "        adj_list[tup[0]].add(tup[1])\n",
    "        if(tup[1] not in adj_list):\n",
    "            adj_list[tup[1]]\n",
    "                  \n",
    "    adj_list_f = adj_list.copy() \n",
    "    c_f = c.copy()\n",
    "    \n",
    "    b, path = MST_Prim(s, t, adj_list_f, c_f)\n",
    "    max_flow += b\n",
    "    while(path!=[]):  \n",
    "        update_capacity_and_flow_in_Gf(c_f, flow, path, b, adj_list_f)        \n",
    "        b, path = MST_Prim(s, t, adj_list_f, c_f)\n",
    "        max_flow += b\n",
    "        \n",
    "    return (max_flow, get_res_flow_in_G(c, flow))"
   ]
  },
  {
   "cell_type": "code",
   "execution_count": 6,
   "metadata": {},
   "outputs": [
    {
     "data": {
      "text/plain": [
       "(3, [(0, 1, 1), (0, 2, 2), (2, 3, 2), (1, 3, 1)])"
      ]
     },
     "execution_count": 6,
     "metadata": {},
     "output_type": "execute_result"
    }
   ],
   "source": [
    "caps = [(0,1,1), (0,2,5), (1,2,1), (2,3,2), (1,3,6)]\n",
    "Max_Flow_Fat(0, 3, caps)"
   ]
  },
  {
   "cell_type": "code",
   "execution_count": 7,
   "metadata": {},
   "outputs": [
    {
     "data": {
      "text/plain": [
       "(8, [(0, 1, 2), (0, 3, 6), (1, 4, 2), (3, 4, 6)])"
      ]
     },
     "execution_count": 7,
     "metadata": {},
     "output_type": "execute_result"
    }
   ],
   "source": [
    "Max_Flow_Fat(0, 4,  [(0, 1, 2), (0, 3, 6), (1, 2, 3), (1, 3, 8), (1, 4, 5), (2, 4, 7), (3, 4, 9)])"
   ]
  },
  {
   "cell_type": "code",
   "execution_count": null,
   "metadata": {},
   "outputs": [],
   "source": []
  },
  {
   "cell_type": "code",
   "execution_count": 1,
   "metadata": {},
   "outputs": [
    {
     "data": {
      "image/png": "[encoded data removed]",
      "text/plain": [
       "<Figure size 1080x576 with 1 Axes>"
      ]
     },
     "metadata": {},
     "output_type": "display_data"
    }
   ],
   "source": [
    "import numpy as np\n",
    "import matplotlib.pyplot as plt\n",
    "%matplotlib inline\n",
    "plt.figure(figsize=(15,8))\n",
    "ax = plt.subplot(111)\n",
    "\n",
    "\n",
    "t = ['1,2','3,4', '5,6', '7,8', '9,10']\n",
    "\n",
    "fat = [\n",
    "    0.167,\n",
    "    0.041,\n",
    "    3.071,\n",
    "    0.967,\n",
    "    0.053]\n",
    "\n",
    "short = [\n",
    "    1.493,\n",
    "    0.012,\n",
    "    4.577,\n",
    "    0.859,\n",
    "    0.014]\n",
    "\n",
    "line, = plt.plot(t, fat, lw=2, marker='o', label=\"Max_Flow_Fat\")\n",
    "line2, = plt.plot(t, short, lw=2, marker='o', label=\"Max_Flow_Short\")\n",
    "\n",
    "plt.ylim(0,5)\n",
    "plt.ylabel('Time (sec)')\n",
    "plt.xlabel('Test case #')\n",
    "plt.xticks(t)\n",
    "plt.legend()\n",
    "plt.show()"
   ]
  },
  {
   "cell_type": "code",
   "execution_count": null,
   "metadata": {},
   "outputs": [],
   "source": []
  }
 ],
 "metadata": {
  "kernelspec": {
   "display_name": "Python 3",
   "language": "python",
   "name": "python3"
  },
  "language_info": {
   "codemirror_mode": {
    "name": "ipython",
    "version": 3
   },
   "file_extension": ".py",
   "mimetype": "text/x-python",
   "name": "python",
   "nbconvert_exporter": "python",
   "pygments_lexer": "ipython3",
   "version": "3.6.4"
  }
 },
 "nbformat": 4,
 "nbformat_minor": 2
}
