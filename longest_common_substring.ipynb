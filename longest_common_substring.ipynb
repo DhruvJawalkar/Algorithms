{
 "cells": [
  {
   "cell_type": "code",
   "execution_count": 37,
   "metadata": {},
   "outputs": [],
   "source": [
    "def longest_common_substring(a, b):\n",
    "    n = len(a)\n",
    "    m = len(b)\n",
    "    c = [[0 for j in range(m)] for i in range(n)]\n",
    "    max_len = 0\n",
    "    max_substr = ''\n",
    "    \n",
    "    for i in range(n):\n",
    "        for j in range(m):\n",
    "            if(a[i]==b[j]):\n",
    "                if(i==0 or j==0):\n",
    "                    c[i][j] = 1\n",
    "                else:\n",
    "                    c[i][j] = c[i-1][j-1]+1                    \n",
    "                \n",
    "                if(c[i][j]>max_len):\n",
    "                    max_len = c[i][j]\n",
    "                    max_substr = a[i-(max_len-1): i+1]\n",
    "                    \n",
    "            else:\n",
    "                c[i][j] = 0\n",
    "               \n",
    "    return max_substr    "
   ]
  },
  {
   "cell_type": "code",
   "execution_count": 40,
   "metadata": {},
   "outputs": [
    {
     "data": {
      "text/plain": [
       "'anthropi'"
      ]
     },
     "execution_count": 40,
     "metadata": {},
     "output_type": "execute_result"
    }
   ],
   "source": [
    "#'philanthropic', 'misanthropist'\n",
    "longest_common_substring('philanthropic', 'misanthropist')"
   ]
  },
  {
   "cell_type": "code",
   "execution_count": 41,
   "metadata": {},
   "outputs": [
    {
     "data": {
      "text/plain": [
       "'looool'"
      ]
     },
     "execution_count": 41,
     "metadata": {},
     "output_type": "execute_result"
    }
   ],
   "source": [
    "longest_common_substring('lolooool', 'loooolol')"
   ]
  },
  {
   "cell_type": "code",
   "execution_count": null,
   "metadata": {},
   "outputs": [],
   "source": []
  }
 ],
 "metadata": {
  "kernelspec": {
   "display_name": "Python 3",
   "language": "python",
   "name": "python3"
  },
  "language_info": {
   "codemirror_mode": {
    "name": "ipython",
    "version": 3
   },
   "file_extension": ".py",
   "mimetype": "text/x-python",
   "name": "python",
   "nbconvert_exporter": "python",
   "pygments_lexer": "ipython3",
   "version": "3.6.4"
  }
 },
 "nbformat": 4,
 "nbformat_minor": 2
}
