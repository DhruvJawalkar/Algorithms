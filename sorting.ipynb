{
 "cells": [
  {
   "cell_type": "code",
   "execution_count": 94,
   "metadata": {},
   "outputs": [],
   "source": [
    "def swap(a, i, j):\n",
    "    temp = a[i]\n",
    "    a[i] = a[j]\n",
    "    a[j] = temp\n",
    "    \n",
    "def bubblesort(a):\n",
    "    n = len(a)\n",
    "    for i in reversed(range(1, n)):\n",
    "        for j in range(i):\n",
    "            if(a[j] > a[j+1]):\n",
    "                swap(a, j, j+1)\n",
    "    return a"
   ]
  },
  {
   "cell_type": "code",
   "execution_count": 95,
   "metadata": {},
   "outputs": [
    {
     "data": {
      "text/plain": [
       "[1, 2, 3, 4, 5, 6]"
      ]
     },
     "execution_count": 95,
     "metadata": {},
     "output_type": "execute_result"
    }
   ],
   "source": [
    "arr = [5,2,4,6,1,3]\n",
    "bubblesort(arr)"
   ]
  },
  {
   "cell_type": "code",
   "execution_count": 10,
   "metadata": {},
   "outputs": [],
   "source": [
    "def mergesort(a, start, end):\n",
    "    if(start==end):\n",
    "        return\n",
    "    \n",
    "    mid = start + (end-start)//2\n",
    "    mergesort(a, start, mid)\n",
    "    mergesort(a, mid+1, end)\n",
    "    merge(a, start, mid, end)    \n",
    "    return a\n",
    "\n",
    "def merge(a, start, mid, end):\n",
    "    left = a[start:mid+1]\n",
    "    right = a[mid+1:end+1]\n",
    "    i,j = 0,0\n",
    "    k = start\n",
    "    \n",
    "    while(i<=len(left)-1 and j<=len(right)-1):\n",
    "        if(left[i]<right[j]):\n",
    "            a[k] = left[i]\n",
    "            i+=1\n",
    "        else:\n",
    "            a[k] = right[j]\n",
    "            j+=1\n",
    "        k+=1 \n",
    "    \n",
    "    while(i<=len(left)-1):\n",
    "        a[k] = left[i]\n",
    "        i+=1\n",
    "        k+=1\n",
    "        \n",
    "    while(j<=len(right)-1):\n",
    "        a[k] = right[j]\n",
    "        j+=1\n",
    "        k+=1        "
   ]
  },
  {
   "cell_type": "code",
   "execution_count": 11,
   "metadata": {},
   "outputs": [
    {
     "data": {
      "text/plain": [
       "[1, 2, 3, 4, 5, 6]"
      ]
     },
     "execution_count": 11,
     "metadata": {},
     "output_type": "execute_result"
    }
   ],
   "source": [
    "arr = [5,2,4,6,1,3]\n",
    "mergesort(arr, 0, 5)"
   ]
  },
  {
   "cell_type": "code",
   "execution_count": 37,
   "metadata": {},
   "outputs": [],
   "source": [
    "def swap(a, i, j):\n",
    "    temp = a[i]\n",
    "    a[i] = a[j]\n",
    "    a[j] = temp\n",
    "    \n",
    "def insertionsort(a):\n",
    "    n = len(a)\n",
    "    for i in range(1, n):\n",
    "        key = a[i]\n",
    "        j = i-1\n",
    "        while(j>=0 and a[j]>key):\n",
    "            swap(a, j, j+1)\n",
    "            j-=1\n",
    "        a[j+1] = key\n",
    "        \n",
    "    return a  "
   ]
  },
  {
   "cell_type": "code",
   "execution_count": 38,
   "metadata": {},
   "outputs": [
    {
     "data": {
      "text/plain": [
       "[1, 2, 3, 4, 5, 6]"
      ]
     },
     "execution_count": 38,
     "metadata": {},
     "output_type": "execute_result"
    }
   ],
   "source": [
    "arr = [5,2,4,6,1,3]\n",
    "insertionsort(arr)"
   ]
  },
  {
   "cell_type": "code",
   "execution_count": 31,
   "metadata": {},
   "outputs": [],
   "source": [
    "arr = [5,2,4,6,1,3]\n",
    "\n",
    "def swap(a, i, j):\n",
    "    temp = a[i]\n",
    "    a[i] = a[j]\n",
    "    a[j] = temp\n",
    "    \n",
    "def build_heap(a):\n",
    "    heap_size = len(a)\n",
    "    \n",
    "    for i in reversed(range((heap_size-1)//2)):\n",
    "        heapify(a, i, heap_size)\n",
    "    return a, heap_size \n",
    "\n",
    "def heapify(a, i, heap_size):\n",
    "    l = 2*i + 1\n",
    "    r = 2*i + 2\n",
    "    largest = i\n",
    "    \n",
    "    if(l<heap_size and a[l]>a[largest]):\n",
    "        largest = l\n",
    "    \n",
    "    if(r<heap_size and a[r]>a[largest]):\n",
    "        largest = r\n",
    "        \n",
    "    if(largest != i):\n",
    "        swap(a, i, largest)  \n",
    "        heapify(a, largest, heap_size)\n",
    "            \n",
    "def heapsort(a):\n",
    "    a, heap_size = build_heap(a)\n",
    "    \n",
    "    for i in range(1, len(a)):\n",
    "        swap(a, 0, heap_size-1)\n",
    "        heap_size -=1\n",
    "        heapify(a, 0, heap_size)\n",
    "    \n",
    "    return a        "
   ]
  },
  {
   "cell_type": "code",
   "execution_count": 32,
   "metadata": {},
   "outputs": [
    {
     "data": {
      "text/plain": [
       "[1, 2, 3, 4, 5, 6]"
      ]
     },
     "execution_count": 32,
     "metadata": {},
     "output_type": "execute_result"
    }
   ],
   "source": [
    "arr = [5,2,4,6,1,3]\n",
    "heapsort(arr)"
   ]
  },
  {
   "cell_type": "code",
   "execution_count": 12,
   "metadata": {},
   "outputs": [
    {
     "data": {
      "text/plain": [
       "'\\ndef partition(a, p, r):\\n    i = p-1\\n    x = a[r]\\n    \\n    for j in range(p, r):\\n        if(a[j]<=x):\\n            i+=1\\n            swap(a, i, j)\\n    \\n    swap(a, r, i+1)\\n    return i+1\\n'"
      ]
     },
     "execution_count": 12,
     "metadata": {},
     "output_type": "execute_result"
    }
   ],
   "source": [
    "def swap(a, i, j):\n",
    "    temp = a[i]\n",
    "    a[i] = a[j]\n",
    "    a[j] = temp\n",
    "    \n",
    "def quicksort(a, p, r):\n",
    "    if(p==r or r<p):\n",
    "        return\n",
    "    \n",
    "    q = partition(a, p, r)\n",
    "    quicksort(a, p, q-1)\n",
    "    quicksort(a, q+1, r)\n",
    "    return a\n",
    "\n",
    "def partition(a, p, r):\n",
    "    i = p-1\n",
    "    j = p\n",
    "    while(j <= r-1):\n",
    "        if(a[j]>a[r]):\n",
    "            j+=1\n",
    "        else:\n",
    "            i+=1\n",
    "            swap(a, i, j)\n",
    "            j+=1\n",
    "    \n",
    "    swap(a, r, i+1)\n",
    "    return i+1\n",
    "\n",
    "'''\n",
    "def partition(a, p, r):\n",
    "    i = p-1\n",
    "    x = a[r]\n",
    "    \n",
    "    for j in range(p, r):\n",
    "        if(a[j]<=x):\n",
    "            i+=1\n",
    "            swap(a, i, j)\n",
    "    \n",
    "    swap(a, r, i+1)\n",
    "    return i+1\n",
    "'''    "
   ]
  },
  {
   "cell_type": "code",
   "execution_count": 13,
   "metadata": {},
   "outputs": [
    {
     "data": {
      "text/plain": [
       "[1, 2, 3, 4, 5, 6]"
      ]
     },
     "execution_count": 13,
     "metadata": {},
     "output_type": "execute_result"
    }
   ],
   "source": [
    "arr = [5,2,4,6,1,3]\n",
    "quicksort(arr, 0, len(arr)-1)"
   ]
  }
 ],
 "metadata": {
  "kernelspec": {
   "display_name": "Python 3",
   "language": "python",
   "name": "python3"
  },
  "language_info": {
   "codemirror_mode": {
    "name": "ipython",
    "version": 3
   },
   "file_extension": ".py",
   "mimetype": "text/x-python",
   "name": "python",
   "nbconvert_exporter": "python",
   "pygments_lexer": "ipython3",
   "version": "3.6.4"
  }
 },
 "nbformat": 4,
 "nbformat_minor": 2
}
