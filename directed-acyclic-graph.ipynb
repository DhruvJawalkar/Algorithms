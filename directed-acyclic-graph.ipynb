{
 "cells": [
  {
   "cell_type": "code",
   "execution_count": 23,
   "metadata": {},
   "outputs": [
    {
     "name": "stdout",
     "output_type": "stream",
     "text": [
      "d, next node with lowest cost:  [2, 6, 6, 5, 8, 8, 8, 8]\n",
      "cost from nodes till the end:  [9, 7, 11, 12, 6, 4, 5, 0]\n",
      "shortest path:  [1, 2, 6, 8]\n",
      "shortest path cost:  9\n"
     ]
    },
    {
     "data": {
      "text/plain": [
       "[1, 2, 6, 8]"
      ]
     },
     "execution_count": 23,
     "metadata": {},
     "output_type": "execute_result"
    }
   ],
   "source": [
    "#adjacency_matrix, graph has 8 nodes, 0th elements are to be ignored\n",
    "#     0  1  2  3  4  5  6  7  8\n",
    "c = [[0, 0, 0, 0, 0, 0, 0, 0, 0], #0    \n",
    "     [0, 0, 2, 1, 3, 0, 0, 0, 0], #1\n",
    "     [0, 0, 0, 0, 0, 2, 3, 0, 0], #2\n",
    "     [0, 0, 0, 0, 0, 6, 7, 0, 0], #3\n",
    "     [0, 0, 0, 0, 0, 6, 8, 9, 0], #4\n",
    "     [0, 0, 0, 0, 0, 0, 0, 0, 6], #5\n",
    "     [0, 0, 0, 0, 0, 0, 0, 0, 4], #6\n",
    "     [0, 0, 0, 0, 0, 0, 0, 0, 5], #7\n",
    "     [0, 0, 0, 0, 0, 0, 0, 0, 0]] #8\n",
    "\n",
    "n_nodes = 8\n",
    "\n",
    "def get_shortest_path(c, n_nodes):\n",
    "    shortest_path = []\n",
    "    inf = 1000\n",
    "    cost = [0, inf, inf, inf, inf, inf, inf, inf, inf]\n",
    "    d = [0, 0, 0, 0, 0, 0, 0, 0, 0]\n",
    "    \n",
    "    cost[n_nodes] = 0     #cost of last node is 0, d is itself\n",
    "    d[n_nodes] = n_nodes\n",
    "    \n",
    "    for i in reversed(range(1, n_nodes)):\n",
    "        min_val = inf\n",
    "        for k in range(i+1, n_nodes+1):\n",
    "            if(c[i][k]!=0 and (c[i][k] + cost[k]) < min_val):\n",
    "                min_val = c[i][k] + cost[k]\n",
    "                cost[i] = min_val\n",
    "                d[i] = k\n",
    "    \n",
    "    \n",
    "    shortest_path.append(1)\n",
    "    while(shortest_path[-1]!=n_nodes):\n",
    "        shortest_path.append(d[shortest_path[-1]])\n",
    "    \n",
    "    print('d, next node with lowest cost: ', d[1:])\n",
    "    print('cost from nodes till the end: ', cost[1:])\n",
    "    print('shortest path: ', shortest_path)\n",
    "    print('shortest path cost: ', cost[1])\n",
    "    return shortest_path\n",
    "\n",
    "get_shortest_path(c, n_nodes)    "
   ]
  },
  {
   "cell_type": "code",
   "execution_count": null,
   "metadata": {},
   "outputs": [],
   "source": [
    "d = []\n",
    "cost = [0,0]\n",
    "shortest_path = []\n",
    "n = 8\n",
    "c = [[0, 0, 0, 0, 0, 0, 0, 0, 0], #0    \n",
    "     [0, 0, 2, 1, 3, 0, 0, 0, 0], #1\n",
    "     [0, 0, 0, 0, 0, 2, 3, 0, 0], #2\n",
    "     [0, 0, 0, 0, 0, 6, 7, 0, 0], #3\n",
    "     [0, 0, 0, 0, 0, 6, 8, 9, 0], #4\n",
    "     [0, 0, 0, 0, 0, 0, 0, 0, 6], #5\n",
    "     [0, 0, 0, 0, 0, 0, 0, 0, 4], #6\n",
    "     [0, 0, 0, 0, 0, 0, 0, 0, 5], #7\n",
    "     [0, 0, 0, 0, 0, 0, 0, 0, 0]] #8\n",
    "\n",
    "connections = {\n",
    "    1 : [2,3,4],\n",
    "    2 : [5,6],\n",
    "    3 : [5,6],\n",
    "    4 : [5,6,7],\n",
    "    5 : [8],\n",
    "    6 : [8],\n",
    "    7 : [8],\n",
    "    8 : []\n",
    "}\n",
    "\n",
    "for j in range(1,n+1):\n",
    "    min_cost = 1000 \n",
    "    for i in connections[j]:\n",
    "        if(cost[j] > cost[i] + c[i][j])\n",
    "            cost[j] = cost[i] + c[i][j]\n",
    "            d[j] = i\n",
    "        "
   ]
  }
 ],
 "metadata": {
  "kernelspec": {
   "display_name": "Python 3",
   "language": "python",
   "name": "python3"
  },
  "language_info": {
   "codemirror_mode": {
    "name": "ipython",
    "version": 3
   },
   "file_extension": ".py",
   "mimetype": "text/x-python",
   "name": "python",
   "nbconvert_exporter": "python",
   "pygments_lexer": "ipython3",
   "version": "3.6.4"
  }
 },
 "nbformat": 4,
 "nbformat_minor": 2
}
