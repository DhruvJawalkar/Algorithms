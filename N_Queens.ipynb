{
 "cells": [
  {
   "cell_type": "code",
   "execution_count": 1,
   "metadata": {},
   "outputs": [],
   "source": [
    "from collections import defaultdict\n",
    "\n",
    "def E_Queens(N):\n",
    "    adj_list = defaultdict(lambda:[])\n",
    "    visited = defaultdict(lambda:False)\n",
    "    \n",
    "    res = []\n",
    "    s = ()\n",
    "    adj_list[s] = [(x,) for x in range(N)]\n",
    "    visited[s] = True\n",
    "    \n",
    "    for n in adj_list[s]:\n",
    "        if(not visited[n]):\n",
    "            visited[n] = True\n",
    "            dfs_visit(n, N, res, adj_list, visited)\n",
    "            \n",
    "    return res\n",
    "\n",
    "def check_condition(u, N):\n",
    "    i = 1\n",
    "    flag = True\n",
    "    \n",
    "    while(i<=N-1):\n",
    "        for j in range(i):\n",
    "            if((u[i]==u[j]) or (i+u[i]==j+u[j]) or (i-u[i]==j-u[j])):\n",
    "                flag = False\n",
    "                break;\n",
    "        \n",
    "        if(flag==False):\n",
    "            break;\n",
    "        else:\n",
    "            i =i+1;\n",
    "            \n",
    "    return (i==N)      \n",
    "                    \n",
    "    \n",
    "def dfs_visit(u, N, res, adj_list, visited):\n",
    "    if(len(u)<N and adj_list[u]==[]):\n",
    "        adj_list[u] = [ u+(i,) for i in range(N)]\n",
    "        \n",
    "    \n",
    "    for v in adj_list[u]:\n",
    "        if(not visited[v]):\n",
    "            visited[v] = True\n",
    "            dfs_visit(v, N, res, adj_list, visited)\n",
    "            \n",
    "    if(len(u)==N and check_condition(u, N)):\n",
    "        res.append(list(u))\n",
    "    \n",
    "    return    "
   ]
  },
  {
   "cell_type": "code",
   "execution_count": 3,
   "metadata": {},
   "outputs": [
    {
     "data": {
      "text/plain": [
       "[[1, 3, 0, 2], [2, 0, 3, 1]]"
      ]
     },
     "execution_count": 3,
     "metadata": {},
     "output_type": "execute_result"
    },
    {
     "name": "stdout",
     "output_type": "stream",
     "text": [
      "time: 2.99 ms\n"
     ]
    }
   ],
   "source": [
    "E_Queens(4)"
   ]
  },
  {
   "cell_type": "code",
   "execution_count": 2,
   "metadata": {},
   "outputs": [],
   "source": [
    "%load_ext autotime"
   ]
  },
  {
   "cell_type": "code",
   "execution_count": 69,
   "metadata": {},
   "outputs": [
    {
     "name": "stdout",
     "output_type": "stream",
     "text": [
      "time: 4.3 ms\n"
     ]
    }
   ],
   "source": [
    "def B_Queens(N):\n",
    "    adj_list = defaultdict(lambda:[])\n",
    "    visited = defaultdict(lambda:False)\n",
    "    \n",
    "    res = []\n",
    "    s = ()\n",
    "    adj_list[s] = [(x,) for x in range(N)]\n",
    "    visited[s] = True\n",
    "    \n",
    "    for n in adj_list[s]:\n",
    "        if(not visited[n]):\n",
    "            visited[n] = True\n",
    "            dfs_visit_B(n, N, res, adj_list, visited)\n",
    "            \n",
    "    return res\n",
    "\n",
    "def is_valid(u):\n",
    "    flag = True\n",
    "    \n",
    "    for i in range(len(u)-1):\n",
    "        if((u[-1]==u[i]) or ((len(u)-1)+u[-1]==i+u[i]) or ((len(u)-1)-u[-1]==i-u[i])):\n",
    "            flag = False\n",
    "            break;\n",
    "            \n",
    "    return flag      \n",
    "                    \n",
    "    \n",
    "def dfs_visit_B(u, N, res, adj_list, visited):\n",
    "    if(len(u)<N and adj_list[u]==[]):\n",
    "        adj_list[u] = [ u+(i,) for i in range(N)]\n",
    "        \n",
    "    \n",
    "    for v in adj_list[u]:\n",
    "        if(not visited[v]):\n",
    "            visited[v] = True\n",
    "            if(is_valid(v)):\n",
    "                dfs_visit_B(v, N, res, adj_list, visited)\n",
    "            \n",
    "    if(len(u)==N):\n",
    "        res.append(list(u))\n",
    "    \n",
    "    return    "
   ]
  },
  {
   "cell_type": "code",
   "execution_count": 87,
   "metadata": {},
   "outputs": [
    {
     "data": {
      "text/plain": [
       "[[0, 4, 7, 5, 2, 6, 1, 3],\n",
       " [0, 5, 7, 2, 6, 3, 1, 4],\n",
       " [0, 6, 3, 5, 7, 1, 4, 2],\n",
       " [0, 6, 4, 7, 1, 3, 5, 2],\n",
       " [1, 3, 5, 7, 2, 0, 6, 4],\n",
       " [1, 4, 6, 0, 2, 7, 5, 3],\n",
       " [1, 4, 6, 3, 0, 7, 5, 2],\n",
       " [1, 5, 0, 6, 3, 7, 2, 4],\n",
       " [1, 5, 7, 2, 0, 3, 6, 4],\n",
       " [1, 6, 2, 5, 7, 4, 0, 3],\n",
       " [1, 6, 4, 7, 0, 3, 5, 2],\n",
       " [1, 7, 5, 0, 2, 4, 6, 3],\n",
       " [2, 0, 6, 4, 7, 1, 3, 5],\n",
       " [2, 4, 1, 7, 0, 6, 3, 5],\n",
       " [2, 4, 1, 7, 5, 3, 6, 0],\n",
       " [2, 4, 6, 0, 3, 1, 7, 5],\n",
       " [2, 4, 7, 3, 0, 6, 1, 5],\n",
       " [2, 5, 1, 4, 7, 0, 6, 3],\n",
       " [2, 5, 1, 6, 0, 3, 7, 4],\n",
       " [2, 5, 1, 6, 4, 0, 7, 3],\n",
       " [2, 5, 3, 0, 7, 4, 6, 1],\n",
       " [2, 5, 3, 1, 7, 4, 6, 0],\n",
       " [2, 5, 7, 0, 3, 6, 4, 1],\n",
       " [2, 5, 7, 0, 4, 6, 1, 3],\n",
       " [2, 5, 7, 1, 3, 0, 6, 4],\n",
       " [2, 6, 1, 7, 4, 0, 3, 5],\n",
       " [2, 6, 1, 7, 5, 3, 0, 4],\n",
       " [2, 7, 3, 6, 0, 5, 1, 4],\n",
       " [3, 0, 4, 7, 1, 6, 2, 5],\n",
       " [3, 0, 4, 7, 5, 2, 6, 1],\n",
       " [3, 1, 4, 7, 5, 0, 2, 6],\n",
       " [3, 1, 6, 2, 5, 7, 0, 4],\n",
       " [3, 1, 6, 2, 5, 7, 4, 0],\n",
       " [3, 1, 6, 4, 0, 7, 5, 2],\n",
       " [3, 1, 7, 4, 6, 0, 2, 5],\n",
       " [3, 1, 7, 5, 0, 2, 4, 6],\n",
       " [3, 5, 0, 4, 1, 7, 2, 6],\n",
       " [3, 5, 7, 1, 6, 0, 2, 4],\n",
       " [3, 5, 7, 2, 0, 6, 4, 1],\n",
       " [3, 6, 0, 7, 4, 1, 5, 2],\n",
       " [3, 6, 2, 7, 1, 4, 0, 5],\n",
       " [3, 6, 4, 1, 5, 0, 2, 7],\n",
       " [3, 6, 4, 2, 0, 5, 7, 1],\n",
       " [3, 7, 0, 2, 5, 1, 6, 4],\n",
       " [3, 7, 0, 4, 6, 1, 5, 2],\n",
       " [3, 7, 4, 2, 0, 6, 1, 5],\n",
       " [4, 0, 3, 5, 7, 1, 6, 2],\n",
       " [4, 0, 7, 3, 1, 6, 2, 5],\n",
       " [4, 0, 7, 5, 2, 6, 1, 3],\n",
       " [4, 1, 3, 5, 7, 2, 0, 6],\n",
       " [4, 1, 3, 6, 2, 7, 5, 0],\n",
       " [4, 1, 5, 0, 6, 3, 7, 2],\n",
       " [4, 1, 7, 0, 3, 6, 2, 5],\n",
       " [4, 2, 0, 5, 7, 1, 3, 6],\n",
       " [4, 2, 0, 6, 1, 7, 5, 3],\n",
       " [4, 2, 7, 3, 6, 0, 5, 1],\n",
       " [4, 6, 0, 2, 7, 5, 3, 1],\n",
       " [4, 6, 0, 3, 1, 7, 5, 2],\n",
       " [4, 6, 1, 3, 7, 0, 2, 5],\n",
       " [4, 6, 1, 5, 2, 0, 3, 7],\n",
       " [4, 6, 1, 5, 2, 0, 7, 3],\n",
       " [4, 6, 3, 0, 2, 7, 5, 1],\n",
       " [4, 7, 3, 0, 2, 5, 1, 6],\n",
       " [4, 7, 3, 0, 6, 1, 5, 2],\n",
       " [5, 0, 4, 1, 7, 2, 6, 3],\n",
       " [5, 1, 6, 0, 2, 4, 7, 3],\n",
       " [5, 1, 6, 0, 3, 7, 4, 2],\n",
       " [5, 2, 0, 6, 4, 7, 1, 3],\n",
       " [5, 2, 0, 7, 3, 1, 6, 4],\n",
       " [5, 2, 0, 7, 4, 1, 3, 6],\n",
       " [5, 2, 4, 6, 0, 3, 1, 7],\n",
       " [5, 2, 4, 7, 0, 3, 1, 6],\n",
       " [5, 2, 6, 1, 3, 7, 0, 4],\n",
       " [5, 2, 6, 1, 7, 4, 0, 3],\n",
       " [5, 2, 6, 3, 0, 7, 1, 4],\n",
       " [5, 3, 0, 4, 7, 1, 6, 2],\n",
       " [5, 3, 1, 7, 4, 6, 0, 2],\n",
       " [5, 3, 6, 0, 2, 4, 1, 7],\n",
       " [5, 3, 6, 0, 7, 1, 4, 2],\n",
       " [5, 7, 1, 3, 0, 6, 4, 2],\n",
       " [6, 0, 2, 7, 5, 3, 1, 4],\n",
       " [6, 1, 3, 0, 7, 4, 2, 5],\n",
       " [6, 1, 5, 2, 0, 3, 7, 4],\n",
       " [6, 2, 0, 5, 7, 4, 1, 3],\n",
       " [6, 2, 7, 1, 4, 0, 5, 3],\n",
       " [6, 3, 1, 4, 7, 0, 2, 5],\n",
       " [6, 3, 1, 7, 5, 0, 2, 4],\n",
       " [6, 4, 2, 0, 5, 7, 1, 3],\n",
       " [7, 1, 3, 0, 6, 4, 2, 5],\n",
       " [7, 1, 4, 2, 0, 6, 3, 5],\n",
       " [7, 2, 0, 5, 1, 4, 6, 3],\n",
       " [7, 3, 0, 2, 5, 1, 6, 4]]"
      ]
     },
     "execution_count": 87,
     "metadata": {},
     "output_type": "execute_result"
    },
    {
     "name": "stdout",
     "output_type": "stream",
     "text": [
      "time: 46.7 ms\n"
     ]
    }
   ],
   "source": [
    "B_Queens(8)"
   ]
  },
  {
   "cell_type": "code",
   "execution_count": 101,
   "metadata": {},
   "outputs": [
    {
     "data": {
      "image/png": "[encoded data removed]",
      "text/plain": [
       "<Figure size 432x288 with 1 Axes>"
      ]
     },
     "metadata": {},
     "output_type": "display_data"
    },
    {
     "name": "stdout",
     "output_type": "stream",
     "text": [
      "time: 117 ms\n"
     ]
    }
   ],
   "source": [
    "import numpy as np\n",
    "import matplotlib.pyplot as plt\n",
    "\n",
    "ax = plt.subplot(111)\n",
    "\n",
    "t = [4,5,6,7,8]\n",
    "e_Q = [\n",
    "    3.11*0.001,\n",
    "12.9*0.001,\n",
    "135*0.001,\n",
    "2.67,\n",
    "59.6]\n",
    "\n",
    "b_Q = [\n",
    "    2.44*0.001,\n",
    "3.25*0.001,\n",
    "4.15*0.001,\n",
    "13*0.001,\n",
    "45.8*0.001]\n",
    "\n",
    "line, = plt.plot(t, e_Q, lw=2, marker='o', label=\"E_Queens\")\n",
    "line2, = plt.plot(t, b_Q, lw=2, marker='o', label=\"B_Queens\")\n",
    "\n",
    "plt.ylim(0,60)\n",
    "plt.ylabel('Time (sec)')\n",
    "plt.xlabel('(N)')\n",
    "plt.xticks([4,5,6,7,8])\n",
    "plt.legend()\n",
    "plt.show()"
   ]
  },
  {
   "cell_type": "code",
   "execution_count": null,
   "metadata": {},
   "outputs": [],
   "source": []
  },
  {
   "cell_type": "code",
   "execution_count": null,
   "metadata": {},
   "outputs": [],
   "source": []
  }
 ],
 "metadata": {
  "kernelspec": {
   "display_name": "Python 3",
   "language": "python",
   "name": "python3"
  },
  "language_info": {
   "codemirror_mode": {
    "name": "ipython",
    "version": 3
   },
   "file_extension": ".py",
   "mimetype": "text/x-python",
   "name": "python",
   "nbconvert_exporter": "python",
   "pygments_lexer": "ipython3",
   "version": "3.6.4"
  }
 },
 "nbformat": 4,
 "nbformat_minor": 2
}
