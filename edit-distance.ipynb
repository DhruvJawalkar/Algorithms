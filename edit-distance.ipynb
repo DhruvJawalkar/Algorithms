{
 "cells": [
  {
   "cell_type": "code",
   "execution_count": 1,
   "metadata": {},
   "outputs": [],
   "source": [
    "#[[j for j in range(m+1)] if i==0 else [(i if j==0 else inf) for j in range(m+1)] for i in range(n+1)]\n",
    "\n",
    "def editDistance(a, b):\n",
    "    shortest_path = []\n",
    "    \n",
    "    n, m = len(a), len(b)\n",
    "    cost = [[0 for j in range(m+1)] for i in range(n+1)]\n",
    "    \n",
    "    for i in range(0,n+1):\n",
    "        for j in range(0, m+1):\n",
    "            if(i==0):\n",
    "                cost[i][j] = j\n",
    "            elif(j==0):\n",
    "                cost[i][j] = i\n",
    "            \n",
    "            elif(a[i-1]==b[j-1]):\n",
    "                cost[i][j] = cost[i-1][j-1]\n",
    "            else:            #substitution cost,  deletion cost, insertion cost\n",
    "                cost[i][j] = min(cost[i-1][j-1]+1, cost[i][j-1]+1, cost[i-1][j]+1)        \n",
    "    \n",
    "    #cost is constructed, now traverse\n",
    "    i,j = n, m\n",
    "    inf = 1000\n",
    "    while(i>0 or j>0):\n",
    "        top_elem = cost[i-1][j] if(i-1<=0) else inf\n",
    "        left_elem = cost[i][j-1] if(j-1<=0) else inf\n",
    "        diag_elem = cost[i-1][j-1] if(i-1>=0 and j-1>=0) else inf\n",
    "        \n",
    "        least_cost_option = min(top_elem, left_elem, diag_elem)\n",
    "        \n",
    "        if(least_cost_option==diag_elem):\n",
    "            if(diag_elem<cost[i][j]):\n",
    "                shortest_path.append('R')\n",
    "            else:\n",
    "                shortest_path.append('_')\n",
    "            i-=1\n",
    "            j-=1\n",
    "        \n",
    "        elif(least_cost_option==left_elem):\n",
    "            shortest_path.append('D')\n",
    "            j-=1\n",
    "        else:\n",
    "            shortest_path.append('I')\n",
    "            i-=1  \n",
    "    \n",
    "    shortest_path.reverse()\n",
    "    shortest_path_str = ' '.join(shortest_path)\n",
    "    return cost[n][m], shortest_path_str"
   ]
  },
  {
   "cell_type": "code",
   "execution_count": 2,
   "metadata": {},
   "outputs": [
    {
     "ename": "IndexError",
     "evalue": "list index out of range",
     "output_type": "error",
     "traceback": [
      "\u001b[0;31m---------------------------------------------------------------------------\u001b[0m",
      "\u001b[0;31mIndexError\u001b[0m                                Traceback (most recent call last)",
      "\u001b[0;32m<ipython-input-2-79692181e1c9>\u001b[0m in \u001b[0;36m<module>\u001b[0;34m()\u001b[0m\n\u001b[1;32m      1\u001b[0m \u001b[0mb\u001b[0m \u001b[0;34m=\u001b[0m \u001b[0;34m'horse'\u001b[0m\u001b[0;34m\u001b[0m\u001b[0m\n\u001b[1;32m      2\u001b[0m \u001b[0ma\u001b[0m \u001b[0;34m=\u001b[0m \u001b[0;34m'ros'\u001b[0m\u001b[0;34m\u001b[0m\u001b[0m\n\u001b[0;32m----> 3\u001b[0;31m \u001b[0meditDistance\u001b[0m\u001b[0;34m(\u001b[0m\u001b[0ma\u001b[0m\u001b[0;34m,\u001b[0m \u001b[0mb\u001b[0m\u001b[0;34m)\u001b[0m\u001b[0;34m\u001b[0m\u001b[0m\n\u001b[0m",
      "\u001b[0;32m<ipython-input-1-37cddf0b97ac>\u001b[0m in \u001b[0;36meditDistance\u001b[0;34m(a, b)\u001b[0m\n\u001b[1;32m     23\u001b[0m     \u001b[0minf\u001b[0m \u001b[0;34m=\u001b[0m \u001b[0;36m1000\u001b[0m\u001b[0;34m\u001b[0m\u001b[0m\n\u001b[1;32m     24\u001b[0m     \u001b[0;32mwhile\u001b[0m\u001b[0;34m(\u001b[0m\u001b[0mi\u001b[0m\u001b[0;34m>\u001b[0m\u001b[0;36m0\u001b[0m \u001b[0;32mor\u001b[0m \u001b[0mj\u001b[0m\u001b[0;34m>\u001b[0m\u001b[0;36m0\u001b[0m\u001b[0;34m)\u001b[0m\u001b[0;34m:\u001b[0m\u001b[0;34m\u001b[0m\u001b[0m\n\u001b[0;32m---> 25\u001b[0;31m         \u001b[0mtop_elem\u001b[0m \u001b[0;34m=\u001b[0m \u001b[0mcost\u001b[0m\u001b[0;34m[\u001b[0m\u001b[0mi\u001b[0m\u001b[0;34m-\u001b[0m\u001b[0;36m1\u001b[0m\u001b[0;34m]\u001b[0m\u001b[0;34m[\u001b[0m\u001b[0mj\u001b[0m\u001b[0;34m]\u001b[0m \u001b[0;32mif\u001b[0m\u001b[0;34m(\u001b[0m\u001b[0mi\u001b[0m\u001b[0;34m-\u001b[0m\u001b[0;36m1\u001b[0m\u001b[0;34m<=\u001b[0m\u001b[0;36m0\u001b[0m\u001b[0;34m)\u001b[0m \u001b[0;32melse\u001b[0m \u001b[0minf\u001b[0m\u001b[0;34m\u001b[0m\u001b[0m\n\u001b[0m\u001b[1;32m     26\u001b[0m         \u001b[0mleft_elem\u001b[0m \u001b[0;34m=\u001b[0m \u001b[0mcost\u001b[0m\u001b[0;34m[\u001b[0m\u001b[0mi\u001b[0m\u001b[0;34m]\u001b[0m\u001b[0;34m[\u001b[0m\u001b[0mj\u001b[0m\u001b[0;34m-\u001b[0m\u001b[0;36m1\u001b[0m\u001b[0;34m]\u001b[0m \u001b[0;32mif\u001b[0m\u001b[0;34m(\u001b[0m\u001b[0mj\u001b[0m\u001b[0;34m-\u001b[0m\u001b[0;36m1\u001b[0m\u001b[0;34m<=\u001b[0m\u001b[0;36m0\u001b[0m\u001b[0;34m)\u001b[0m \u001b[0;32melse\u001b[0m \u001b[0minf\u001b[0m\u001b[0;34m\u001b[0m\u001b[0m\n\u001b[1;32m     27\u001b[0m         \u001b[0mdiag_elem\u001b[0m \u001b[0;34m=\u001b[0m \u001b[0mcost\u001b[0m\u001b[0;34m[\u001b[0m\u001b[0mi\u001b[0m\u001b[0;34m-\u001b[0m\u001b[0;36m1\u001b[0m\u001b[0;34m]\u001b[0m\u001b[0;34m[\u001b[0m\u001b[0mj\u001b[0m\u001b[0;34m-\u001b[0m\u001b[0;36m1\u001b[0m\u001b[0;34m]\u001b[0m \u001b[0;32mif\u001b[0m\u001b[0;34m(\u001b[0m\u001b[0mi\u001b[0m\u001b[0;34m-\u001b[0m\u001b[0;36m1\u001b[0m\u001b[0;34m>=\u001b[0m\u001b[0;36m0\u001b[0m \u001b[0;32mand\u001b[0m \u001b[0mj\u001b[0m\u001b[0;34m-\u001b[0m\u001b[0;36m1\u001b[0m\u001b[0;34m>=\u001b[0m\u001b[0;36m0\u001b[0m\u001b[0;34m)\u001b[0m \u001b[0;32melse\u001b[0m \u001b[0minf\u001b[0m\u001b[0;34m\u001b[0m\u001b[0m\n",
      "\u001b[0;31mIndexError\u001b[0m: list index out of range"
     ]
    }
   ],
   "source": [
    "b = 'horse'\n",
    "a = 'ros'\n",
    "editDistance(a, b)"
   ]
  },
  {
   "cell_type": "code",
   "execution_count": 1,
   "metadata": {},
   "outputs": [],
   "source": [
    "def editDistance(a, b):\n",
    "    shortest_path = []\n",
    "    \n",
    "    m, n = len(a), len(b)\n",
    "    cost = [[0 for j in range(m+1)] for i in range(n+1)]\n",
    "    \n",
    "    for i in range(0,n+1):\n",
    "        for j in range(0, m+1):\n",
    "            if(i==0):\n",
    "                cost[i][j] = j\n",
    "            elif(j==0):\n",
    "                cost[i][j] = i\n",
    "            \n",
    "            elif(b[i-1]==a[j-1]):\n",
    "                cost[i][j] = cost[i-1][j-1]\n",
    "            else:            #substitution cost,  deletion cost, insertion cost\n",
    "                cost[i][j] = min(cost[i-1][j-1]+1, cost[i][j-1]+1, cost[i-1][j]+1)        \n",
    "    print(cost)\n",
    "    #cost is constructed, now traverse\n",
    "    i,j = n, m\n",
    "    inf = 1000\n",
    "    while(i>0 or j>0):\n",
    "        print(i,j)\n",
    "        top_elem = cost[i-1][j] if(i-1>=0) else inf\n",
    "        left_elem = cost[i][j-1] if(j-1>=0) else inf\n",
    "        diag_elem = cost[i-1][j-1] if(i-1>=0 and j-1>=0) else inf\n",
    "        \n",
    "        least_cost_option = min(top_elem, left_elem, diag_elem)\n",
    "\n",
    "        if(least_cost_option==diag_elem):\n",
    "            if(diag_elem<cost[i][j]):\n",
    "                shortest_path.append('R')\n",
    "            else:\n",
    "                shortest_path.append('_')\n",
    "            i-=1\n",
    "            j-=1\n",
    "        \n",
    "        elif(least_cost_option==left_elem):\n",
    "            shortest_path.append('D')\n",
    "            j-=1\n",
    "        else:\n",
    "            shortest_path.append('I')\n",
    "            i-=1  \n",
    "    \n",
    "    shortest_path.reverse()\n",
    "    shortest_path_str = ' '.join(shortest_path)\n",
    "    return cost[n][m], shortest_path_str"
   ]
  },
  {
   "cell_type": "code",
   "execution_count": 2,
   "metadata": {},
   "outputs": [
    {
     "name": "stdout",
     "output_type": "stream",
     "text": [
      "[[0, 1, 2, 3, 4, 5], [1, 1, 2, 2, 3, 4], [2, 2, 1, 2, 3, 4], [3, 3, 2, 2, 2, 3]]\n",
      "3 5\n",
      "3 4\n",
      "2 3\n",
      "2 2\n",
      "1 1\n"
     ]
    },
    {
     "data": {
      "text/plain": [
       "(3, 'R _ D _ D')"
      ]
     },
     "execution_count": 2,
     "metadata": {},
     "output_type": "execute_result"
    }
   ],
   "source": [
    "a = 'horse'\n",
    "b = 'ros'\n",
    "editDistance(a, b)"
   ]
  },
  {
   "cell_type": "code",
   "execution_count": null,
   "metadata": {},
   "outputs": [],
   "source": [
    "def editDistance(a, b):    \n",
    "    m, n = len(a), len(b)\n",
    "    cost = [[0 for j in range(m+1)] for i in range(n+1)]\n",
    "    \n",
    "    for i in range(0,n+1):\n",
    "        for j in range(0, m+1):\n",
    "            if(i==0):\n",
    "                cost[i][j] = j\n",
    "            elif(j==0):\n",
    "                cost[i][j] = i\n",
    "            \n",
    "            elif(b[i-1]==a[j-1]):\n",
    "                cost[i][j] = cost[i-1][j-1]\n",
    "            else:            \n",
    "                cost[i][j] = min(cost[i-1][j-1]+1, cost[i][j-1]+1, cost[i-1][j]+1)        \n",
    "    return cost[n][m]"
   ]
  },
  {
   "cell_type": "code",
   "execution_count": 3,
   "metadata": {},
   "outputs": [
    {
     "ename": "ModuleNotFoundError",
     "evalue": "No module named 'nltk'",
     "output_type": "error",
     "traceback": [
      "\u001b[0;31m---------------------------------------------------------------------------\u001b[0m",
      "\u001b[0;31mModuleNotFoundError\u001b[0m                       Traceback (most recent call last)",
      "\u001b[0;32m<ipython-input-3-1d2184025e54>\u001b[0m in \u001b[0;36m<module>\u001b[0;34m()\u001b[0m\n\u001b[0;32m----> 1\u001b[0;31m \u001b[0;32mimport\u001b[0m \u001b[0mnltk\u001b[0m\u001b[0;34m\u001b[0m\u001b[0;34m\u001b[0m\u001b[0m\n\u001b[0m",
      "\u001b[0;31mModuleNotFoundError\u001b[0m: No module named 'nltk'"
     ]
    }
   ],
   "source": [
    "import nltk"
   ]
  },
  {
   "cell_type": "code",
   "execution_count": 4,
   "metadata": {},
   "outputs": [
    {
     "name": "stdout",
     "output_type": "stream",
     "text": [
      "Collecting nltk\n",
      "\u001b[?25l  Downloading https://files.pythonhosted.org/packages/50/09/3b1755d528ad9156ee7243d52aa5cd2b809ef053a0f31b53d92853dd653a/nltk-3.3.0.zip (1.4MB)\n",
      "\u001b[K    100% |████████████████████████████████| 1.4MB 6.8MB/s ta 0:00:01\n",
      "\u001b[?25hRequirement already satisfied: six in /Users/dhruv/miniconda3/envs/fastai-cpu/lib/python3.6/site-packages (from nltk) (1.11.0)\n",
      "Building wheels for collected packages: nltk\n",
      "  Running setup.py bdist_wheel for nltk ... \u001b[?25ldone\n",
      "\u001b[?25h  Stored in directory: /Users/dhruv/Library/Caches/pip/wheels/d1/ab/40/3bceea46922767e42986aef7606a600538ca80de6062dc266c\n",
      "Successfully built nltk\n",
      "Installing collected packages: nltk\n",
      "Successfully installed nltk-3.3\n"
     ]
    }
   ],
   "source": [
    "!pip install nltk"
   ]
  },
  {
   "cell_type": "code",
   "execution_count": 5,
   "metadata": {},
   "outputs": [],
   "source": [
    "import nltk"
   ]
  },
  {
   "cell_type": "code",
   "execution_count": 6,
   "metadata": {},
   "outputs": [],
   "source": [
    "from nltk.corpus import words"
   ]
  },
  {
   "cell_type": "code",
   "execution_count": 7,
   "metadata": {},
   "outputs": [],
   "source": [
    "wl = words.words()"
   ]
  },
  {
   "cell_type": "code",
   "execution_count": 16,
   "metadata": {},
   "outputs": [
    {
     "data": {
      "text/plain": [
       "['abortiveness',\n",
       " 'abortus',\n",
       " 'abouchement',\n",
       " 'abound',\n",
       " 'abounder',\n",
       " 'abounding',\n",
       " 'aboundingly',\n",
       " 'about',\n",
       " 'abouts',\n",
       " 'above',\n",
       " 'aboveboard',\n",
       " 'abovedeck',\n",
       " 'aboveground',\n",
       " 'aboveproof',\n",
       " 'abovestairs',\n",
       " 'abox',\n",
       " 'abracadabra',\n",
       " 'abrachia',\n",
       " 'abradant',\n",
       " 'abrade',\n",
       " 'abrader',\n",
       " 'Abraham',\n",
       " 'Abrahamic',\n",
       " 'Abrahamidae',\n",
       " 'Abrahamite',\n",
       " 'Abrahamitic',\n",
       " 'abraid',\n",
       " 'Abram',\n",
       " 'Abramis',\n",
       " 'abranchial',\n",
       " 'abranchialism',\n",
       " 'abranchian',\n",
       " 'Abranchiata',\n",
       " 'abranchiate',\n",
       " 'abranchious',\n",
       " 'abrasax',\n",
       " 'abrase',\n",
       " 'abrash',\n",
       " 'abrasiometer',\n",
       " 'abrasion',\n",
       " 'abrasive',\n",
       " 'abrastol',\n",
       " 'abraum',\n",
       " 'abraxas',\n",
       " 'abreact',\n",
       " 'abreaction',\n",
       " 'abreast',\n",
       " 'abrenounce',\n",
       " 'abret',\n",
       " 'abrico',\n",
       " 'abridge',\n",
       " 'abridgeable',\n",
       " 'abridged',\n",
       " 'abridgedly',\n",
       " 'abridger',\n",
       " 'abridgment',\n",
       " 'abrim',\n",
       " 'abrin',\n",
       " 'abristle',\n",
       " 'abroach',\n",
       " 'abroad',\n",
       " 'Abrocoma',\n",
       " 'abrocome',\n",
       " 'abrogable',\n",
       " 'abrogate',\n",
       " 'abrogation',\n",
       " 'abrogative',\n",
       " 'abrogator',\n",
       " 'Abroma',\n",
       " 'Abronia',\n",
       " 'abrook',\n",
       " 'abrotanum',\n",
       " 'abrotine',\n",
       " 'abrupt',\n",
       " 'abruptedly',\n",
       " 'abruption',\n",
       " 'abruptly',\n",
       " 'abruptness',\n",
       " 'Abrus',\n",
       " 'Absalom',\n",
       " 'absampere',\n",
       " 'Absaroka',\n",
       " 'absarokite',\n",
       " 'abscess',\n",
       " 'abscessed',\n",
       " 'abscession',\n",
       " 'abscessroot',\n",
       " 'abscind',\n",
       " 'abscise',\n",
       " 'abscision',\n",
       " 'absciss',\n",
       " 'abscissa',\n",
       " 'abscissae',\n",
       " 'abscisse',\n",
       " 'abscission',\n",
       " 'absconce',\n",
       " 'abscond',\n",
       " 'absconded',\n",
       " 'abscondedly',\n",
       " 'abscondence']"
      ]
     },
     "execution_count": 16,
     "metadata": {},
     "output_type": "execute_result"
    }
   ],
   "source": [
    "wl[400:500]"
   ]
  },
  {
   "cell_type": "code",
   "execution_count": null,
   "metadata": {},
   "outputs": [],
   "source": []
  }
 ],
 "metadata": {
  "kernelspec": {
   "display_name": "Python 3",
   "language": "python",
   "name": "python3"
  },
  "language_info": {
   "codemirror_mode": {
    "name": "ipython",
    "version": 3
   },
   "file_extension": ".py",
   "mimetype": "text/x-python",
   "name": "python",
   "nbconvert_exporter": "python",
   "pygments_lexer": "ipython3",
   "version": "3.6.7"
  }
 },
 "nbformat": 4,
 "nbformat_minor": 2
}
