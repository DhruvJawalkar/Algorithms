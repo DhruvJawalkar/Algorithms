{
 "cells": [
  {
   "cell_type": "code",
   "execution_count": 9,
   "metadata": {},
   "outputs": [
    {
     "name": "stdout",
     "output_type": "stream",
     "text": [
      "[1, 2, 3, 4, 5, 6, 7, 8]\n"
     ]
    }
   ],
   "source": [
    "def swap(arr, i, j):\n",
    "    temp = arr[i]\n",
    "    arr[i] = arr[j]\n",
    "    arr[j] = temp\n",
    "    \n",
    "def insertion_sort(arr):   \n",
    "    for i in range(len(arr)-1):\n",
    "        j = i\n",
    "        while(arr[j+1] < arr[j] and j!=-1):\n",
    "            swap(arr, j+1, j)\n",
    "            j -= 1          \n",
    "    return arr\n",
    "\n",
    "arr = [5, 8, 7, 4, 6, 1, 3, 2]    \n",
    "print(insertion_sort(arr))    "
   ]
  },
  {
   "cell_type": "code",
   "execution_count": 1,
   "metadata": {
    "scrolled": false
   },
   "outputs": [
    {
     "data": {
      "text/plain": [
       "[[1, 2, 3], [1, 3, 2], [2, 1, 3], [2, 3, 1], [3, 2, 1], [3, 1, 2]]"
      ]
     },
     "execution_count": 1,
     "metadata": {},
     "output_type": "execute_result"
    }
   ],
   "source": [
    "def swap(arr, i, j):\n",
    "    temp = arr[i]\n",
    "    arr[i] = arr[j]\n",
    "    arr[j] = temp\n",
    "    \n",
    "def perms(arr, permute_sub_array_from_idx=0):\n",
    "    \n",
    "    #Swap 1st element with all other elements\n",
    "    #Freeze 1st element and then proceed to permute other elements\n",
    "    #Recursively call above steps, print combination\n",
    "    #We keep track of elements to freeze by permute_sub_array_from_idx\n",
    "    \n",
    "    #We swap back after ever recursive call to putback the array in its original order\n",
    "    #If we didn't swap back we'd have to keep a copy of the original array \n",
    "    results = []\n",
    "    n = len(arr)  \n",
    "    if n==0 or n==1:\n",
    "        return [arr]\n",
    "    \n",
    "    if permute_sub_array_from_idx==(n-1): #when it recursively completes 1 permutation \n",
    "        return [arr.copy()]\n",
    "    \n",
    "    for i in range(permute_sub_array_from_idx, n): \n",
    "        swap(arr, permute_sub_array_from_idx, i)\n",
    "        results.extend(perms(arr, permute_sub_array_from_idx+1))\n",
    "        swap(arr, permute_sub_array_from_idx, i)\n",
    "        \n",
    "    return results    \n",
    "\n",
    "arr = [1, 2, 3]        \n",
    "perms(arr)        "
   ]
  },
  {
   "cell_type": "code",
   "execution_count": 15,
   "metadata": {},
   "outputs": [],
   "source": [
    "%load_ext autotime"
   ]
  },
  {
   "cell_type": "code",
   "execution_count": 21,
   "metadata": {},
   "outputs": [],
   "source": [
    "arr = [1,3,4,5, 2]"
   ]
  },
  {
   "cell_type": "code",
   "execution_count": 22,
   "metadata": {},
   "outputs": [],
   "source": [
    "for i in range(len(arr)-1):\n",
    "    if(arr[i]>arr[i+1]):\n",
    "        break"
   ]
  },
  {
   "cell_type": "code",
   "execution_count": 23,
   "metadata": {},
   "outputs": [
    {
     "data": {
      "text/plain": [
       "5"
      ]
     },
     "execution_count": 23,
     "metadata": {},
     "output_type": "execute_result"
    }
   ],
   "source": [
    "arr[i]"
   ]
  },
  {
   "cell_type": "code",
   "execution_count": 28,
   "metadata": {},
   "outputs": [
    {
     "data": {
      "text/plain": [
       "0.6931471805599453"
      ]
     },
     "execution_count": 28,
     "metadata": {},
     "output_type": "execute_result"
    }
   ],
   "source": [
    "from math import log\n",
    "log(2)"
   ]
  },
  {
   "cell_type": "code",
   "execution_count": 30,
   "metadata": {},
   "outputs": [],
   "source": [
    "def Bubblesort(a):\n",
    "    j = len(a)\n",
    "    \n",
    "    while j > 0:\n",
    "        j= j-1\n",
    "        for i in range(j):\n",
    "             #Invariant 1:\n",
    "            if a[i] > a[i+1]:\n",
    "                a[i], a[i+1] = a[i+1], a[i]\n",
    "        #Invariant 2:\n",
    "    #Invariant 3:\n",
    "    return a"
   ]
  },
  {
   "cell_type": "code",
   "execution_count": 32,
   "metadata": {},
   "outputs": [
    {
     "data": {
      "text/plain": [
       "[1, 2, 3, 4, 5, 7]"
      ]
     },
     "execution_count": 32,
     "metadata": {},
     "output_type": "execute_result"
    }
   ],
   "source": [
    "Bubblesort([1,4,7,3,5,2])"
   ]
  },
  {
   "cell_type": "code",
   "execution_count": null,
   "metadata": {},
   "outputs": [],
   "source": []
  }
 ],
 "metadata": {
  "kernelspec": {
   "display_name": "Python 3",
   "language": "python",
   "name": "python3"
  },
  "language_info": {
   "codemirror_mode": {
    "name": "ipython",
    "version": 3
   },
   "file_extension": ".py",
   "mimetype": "text/x-python",
   "name": "python",
   "nbconvert_exporter": "python",
   "pygments_lexer": "ipython3",
   "version": "3.6.4"
  }
 },
 "nbformat": 4,
 "nbformat_minor": 2
}
