{
 "cells": [
  {
   "cell_type": "code",
   "execution_count": 1,
   "metadata": {},
   "outputs": [],
   "source": [
    "def get_kth_element(a, b, k):\n",
    "    if(k>len(a)+len(b)): \n",
    "        return -1\n",
    "    \n",
    "    if(len(a)>k):\n",
    "        a = a[:k]\n",
    "        \n",
    "    if(len(b)>k):\n",
    "        b = b[:k]\n",
    "    \n",
    "    i = int((len(a)-1)/2)\n",
    "    j = int((len(b)-1)/2)\n",
    "    \n",
    "    if(len(a)==0):\n",
    "        return b[k-1]\n",
    "    if(len(b)==0):\n",
    "        return a[k-1]\n",
    "    \n",
    "    if(i+j == k-1):\n",
    "        if(k==1):\n",
    "            return min(a[i], b[j])\n",
    "        else:\n",
    "            if(a[i]>b[j]):\n",
    "                return get_kth_element(a[:i+1], b[j:], k-j)\n",
    "            else:\n",
    "                return get_kth_element(a[i:], b[:j+1], k-i)\n",
    "    \n",
    "    else:\n",
    "        if(a[i]>b[j]):\n",
    "            return get_kth_element(a, b[j+1:] or [], k-(j+1))\n",
    "        else:\n",
    "            return get_kth_element(a[i+1:] or [], b, k-(i+1))"
   ]
  },
  {
   "cell_type": "code",
   "execution_count": 15,
   "metadata": {},
   "outputs": [
    {
     "name": "stdout",
     "output_type": "stream",
     "text": [
      "7\n"
     ]
    }
   ],
   "source": [
    "a = [1,3,5,7]\n",
    "b = [2,4,6,8,10]\n",
    "k = 7\n",
    "print(get_kth_element(a, b, k))"
   ]
  },
  {
   "cell_type": "code",
   "execution_count": 5,
   "metadata": {},
   "outputs": [
    {
     "data": {
      "text/plain": [
       "[1, 2, 3, 4, 7, 8, 9, 10, 14, 16]"
      ]
     },
     "execution_count": 5,
     "metadata": {},
     "output_type": "execute_result"
    }
   ],
   "source": [
    "import math\n",
    "\n",
    "def swap(arr, i, j):\n",
    "    temp = arr[i]\n",
    "    arr[i] = arr[j]\n",
    "    arr[j] = temp\n",
    "    \n",
    "def Maxheapify(a, i, heap_size):\n",
    "    l = (2*i) + 1\n",
    "    r = (2*i) + 2\n",
    "    largest_idx = i\n",
    "    \n",
    "    if(l<heap_size and a[l]>a[largest_idx]):\n",
    "        largest_idx = l\n",
    "        \n",
    "    if(r<heap_size and a[r]>a[largest_idx]):\n",
    "        largest_idx = r\n",
    "        \n",
    "    if(largest_idx != i):\n",
    "        swap(a, i, largest_idx)\n",
    "        Maxheapify(a, largest_idx, heap_size)\n",
    "    \n",
    "    return\n",
    "\n",
    "\n",
    "def BuildMaxHeap(a):\n",
    "    n = len(a)\n",
    "    heap_size = n\n",
    "    \n",
    "    for i in reversed(range(math.floor(n/2)+1)):\n",
    "        Maxheapify(a, i, heap_size)\n",
    "    \n",
    "def HeapSort(a):\n",
    "    n = len(a)\n",
    "    heap_size = n\n",
    "    BuildMaxHeap(a)\n",
    "    \n",
    "    for i in range(n-1):\n",
    "        swap(a, 0, heap_size-1)\n",
    "        heap_size -=1\n",
    "        Maxheapify(a, 0, heap_size)\n",
    "    return a\n",
    "\n",
    "a = [16,14,10,8,7,9,3,2,4,1]\n",
    "HeapSort(a)"
   ]
  },
  {
   "cell_type": "code",
   "execution_count": null,
   "metadata": {},
   "outputs": [],
   "source": []
  }
 ],
 "metadata": {
  "kernelspec": {
   "display_name": "Python 3",
   "language": "python",
   "name": "python3"
  },
  "language_info": {
   "codemirror_mode": {
    "name": "ipython",
    "version": 3
   },
   "file_extension": ".py",
   "mimetype": "text/x-python",
   "name": "python",
   "nbconvert_exporter": "python",
   "pygments_lexer": "ipython3",
   "version": "3.6.4"
  }
 },
 "nbformat": 4,
 "nbformat_minor": 2
}
