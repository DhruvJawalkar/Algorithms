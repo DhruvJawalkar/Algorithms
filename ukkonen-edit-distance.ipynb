{
 "cells": [
  {
   "cell_type": "code",
   "execution_count": 1,
   "metadata": {},
   "outputs": [],
   "source": [
    "import math\n",
    "from collections import defaultdict\n",
    "import pdb\n",
    "\n",
    "\n",
    "def calculate_f_kp(f, k, p, a, b):\n",
    "    m = len(a)\n",
    "    n = len(b)\n",
    "    \n",
    "    if(k<0):\n",
    "        f[k, int(math.fabs(k))-1] = int(math.fabs(k))-1\n",
    "    else:\n",
    "        f[k, int(math.fabs(k))-1] = -1\n",
    "    \n",
    "    t = max(f[k,p-1]+1, f[k-1,p-1], f[k+1,p-1]+1)\n",
    "    pdb.set_trace()\n",
    "    while(t>-2 and (t < m and t+k < n) and a[t]==b[t+k]):\n",
    "        t = t+1\n",
    "   \n",
    "    if(t>m or t+k>n):\n",
    "        f[k,p] = -1000\n",
    "    else:        \n",
    "        f[k,p] = t\n",
    "        \n",
    "    \n",
    "def editDistance(a, b):\n",
    "    f = defaultdict(lambda:-1000)\n",
    "    \n",
    "    m = len(a)\n",
    "    n = len(b)\n",
    "    p = -1\n",
    "    r = p - min(m,n)\n",
    "    \n",
    "    while(f[n-m, p]!=m):\n",
    "        p = p+1\n",
    "        r = r+1\n",
    "        \n",
    "        if(r<=0):            \n",
    "            for k in range(-p,p+1):\n",
    "                calculate_f_kp(f, k, p, a, b)\n",
    "        else:\n",
    "            for k in range(max(-m,-p), min(n,p)+1):\n",
    "                calculate_f_kp(f, k, p, a, b)\n",
    "        \n",
    "    s = p\n",
    "    return s\n",
    "\n",
    "a = ''\n",
    "b = 'qwewqe'\n",
    "    "
   ]
  },
  {
   "cell_type": "code",
   "execution_count": null,
   "metadata": {},
   "outputs": [
    {
     "name": "stdout",
     "output_type": "stream",
     "text": [
      "> <ipython-input-1-4532b355de43>(17)calculate_f_kp()\n",
      "-> while(t>-2 and (t < m and t+k < n) and a[t]==b[t+k]):\n",
      "(Pdb) p a\n",
      "''\n",
      "(Pdb) p b\n",
      "'qwewqe'\n",
      "(Pdb) f\n",
      "defaultdict(<function editDistance.<locals>.<lambda> at 0x10baf2158>, {(6, -1): -1000, (0, -1): -1, (-1, -1): -1000, (1, -1): -1000})\n"
     ]
    }
   ],
   "source": [
    "editDistance(a, b)"
   ]
  },
  {
   "cell_type": "code",
   "execution_count": 82,
   "metadata": {},
   "outputs": [],
   "source": [
    "import matplotlib.pyplot as plt\n",
    "%matplotlib inline"
   ]
  },
  {
   "cell_type": "code",
   "execution_count": 95,
   "metadata": {},
   "outputs": [
    {
     "data": {
      "image/png": "[encoded data removed]",
      "text/plain": [
       "<Figure size 432x288 with 1 Axes>"
      ]
     },
     "metadata": {},
     "output_type": "display_data"
    }
   ],
   "source": [
    "import numpy as np\n",
    "import matplotlib.pyplot as plt\n",
    "\n",
    "ax = plt.subplot(111)\n",
    "\n",
    "t = np.arange(100, 1000+10, 100)\n",
    "e = [\n",
    "    1.4226,\n",
    "1.4280,\n",
    "1.4680,\n",
    "1.4864,\n",
    "1.4899,\n",
    "1.4949,\n",
    "1.5587,\n",
    "1.5450,\n",
    "1.6699,\n",
    "1.5503]\n",
    "e_f = [\n",
    "    0.0411,\n",
    "0.1533,\n",
    "0.3492,\n",
    "0.6648,\n",
    "0.9253,\n",
    "1.3171,\n",
    "1.7731,\n",
    "2.0837,\n",
    "2.5707,\n",
    "3.0080]\n",
    "line, = plt.plot(t, e, lw=2, label=\"Normal Edit Dist\")\n",
    "line2, = plt.plot(t, e_f, lw=2, label=\"Fast Edit Dist\")\n",
    "\n",
    "plt.ylim(0,3.7,0.1)\n",
    "plt.ylabel('Time (sec)')\n",
    "plt.xlabel('Items (n)')\n",
    "plt.legend()\n",
    "plt.show()"
   ]
  },
  {
   "cell_type": "code",
   "execution_count": null,
   "metadata": {},
   "outputs": [],
   "source": [
    "\n"
   ]
  }
 ],
 "metadata": {
  "kernelspec": {
   "display_name": "Python 3",
   "language": "python",
   "name": "python3"
  },
  "language_info": {
   "codemirror_mode": {
    "name": "ipython",
    "version": 3
   },
   "file_extension": ".py",
   "mimetype": "text/x-python",
   "name": "python",
   "nbconvert_exporter": "python",
   "pygments_lexer": "ipython3",
   "version": "3.6.4"
  }
 },
 "nbformat": 4,
 "nbformat_minor": 2
}
