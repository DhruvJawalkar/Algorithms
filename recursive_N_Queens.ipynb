{
 "cells": [
  {
   "cell_type": "code",
   "execution_count": 25,
   "metadata": {},
   "outputs": [
    {
     "data": {
      "text/plain": [
       "[[0, 2, 4, 1, 3],\n",
       " [0, 3, 1, 4, 2],\n",
       " [1, 3, 0, 2, 4],\n",
       " [1, 4, 2, 0, 3],\n",
       " [2, 0, 3, 1, 4],\n",
       " [2, 4, 1, 3, 0],\n",
       " [3, 0, 2, 4, 1],\n",
       " [3, 1, 4, 2, 0],\n",
       " [4, 1, 3, 0, 2],\n",
       " [4, 2, 0, 3, 1]]"
      ]
     },
     "execution_count": 25,
     "metadata": {},
     "output_type": "execute_result"
    }
   ],
   "source": [
    "N = 5\n",
    "Q = [-1 for i in range(N)]\n",
    "\n",
    "def recursive_N_Queens(Q, r=0, res=[]):\n",
    "    #print(Q)\n",
    "    if(r==len(Q)):\n",
    "        flag = True\n",
    "        for i in range(1,r):\n",
    "            for j in range(i):\n",
    "                if(Q[i]==Q[j]) or (Q[i]+i == j+Q[j]) or (Q[i]-i == Q[j]-j):\n",
    "                    flag= False\n",
    "                    break\n",
    "            if(flag==False):\n",
    "                break\n",
    "        if(flag):\n",
    "            res.append(Q.copy())\n",
    "        \n",
    "    \n",
    "    else:    \n",
    "        for j in range(len(Q)):\n",
    "            Q[r] = j\n",
    "            recursive_N_Queens(Q, r+1)\n",
    "            #for i in range(r):\n",
    "            #    if(Q[i]==j) or (Q[i]+i == j+r) or (Q[i]-i == j-r):\n",
    "            #        legal =False\n",
    "            \n",
    "            #if(legal):\n",
    "            #    Q[r] = j\n",
    "            #    recursive_N_Queens(Q, r+1, res)\n",
    "    return res        \n",
    "recursive_N_Queens(Q)"
   ]
  },
  {
   "cell_type": "code",
   "execution_count": null,
   "metadata": {},
   "outputs": [],
   "source": [
    "N = 5\n",
    "Q = [-1 for i in range(N)]\n",
    "\n",
    "def recursive_N_Queens(Q, r=0, res=[]):\n",
    "    #print(Q)\n",
    "    if(r==len(Q)):\n",
    "        flag = True\n",
    "        for i in range(1,r):\n",
    "            for j in range(i):\n",
    "                if(Q[i]==Q[j]) or (Q[i]+i == j+Q[j]) or (Q[i]-i == Q[j]-j):\n",
    "                    flag= False\n",
    "                    break\n",
    "            if(flag==False):\n",
    "                break\n",
    "        if(flag):\n",
    "            res.append(Q.copy())\n",
    "        \n",
    "    \n",
    "    else:    \n",
    "        for j in range(len(Q)):\n",
    "            Q[r] = j\n",
    "            recursive_N_Queens(Q, r+1)\n",
    "            #for i in range(r):\n",
    "            #    if(Q[i]==j) or (Q[i]+i == j+r) or (Q[i]-i == j-r):\n",
    "            #        legal =False\n",
    "            \n",
    "            #if(legal):\n",
    "            #    Q[r] = j\n",
    "            #    recursive_N_Queens(Q, r+1, res)\n",
    "    return res        \n",
    "recursive_N_Queens(Q)"
   ]
  }
 ],
 "metadata": {
  "kernelspec": {
   "display_name": "Python 3",
   "language": "python",
   "name": "python3"
  },
  "language_info": {
   "codemirror_mode": {
    "name": "ipython",
    "version": 3
   },
   "file_extension": ".py",
   "mimetype": "text/x-python",
   "name": "python",
   "nbconvert_exporter": "python",
   "pygments_lexer": "ipython3",
   "version": "3.6.4"
  }
 },
 "nbformat": 4,
 "nbformat_minor": 2
}
